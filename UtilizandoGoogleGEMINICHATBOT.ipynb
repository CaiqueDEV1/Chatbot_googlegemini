{
  "nbformat": 4,
  "nbformat_minor": 0,
  "metadata": {
    "colab": {
      "provenance": []
    },
    "kernelspec": {
      "name": "python3",
      "display_name": "Python 3"
    },
    "language_info": {
      "name": "python"
    }
  },
  "cells": [
    {
      "cell_type": "code",
      "execution_count": 1,
      "metadata": {
        "colab": {
          "base_uri": "https://localhost:8080/"
        },
        "id": "Nn6OvWxaUlZu",
        "outputId": "cd72c96f-dfc5-4426-e4e2-b36b9798665d"
      },
      "outputs": [
        {
          "output_type": "stream",
          "name": "stdout",
          "text": [
            "Requirement already satisfied: google-generativeai in /usr/local/lib/python3.10/dist-packages (0.7.2)\n",
            "Requirement already satisfied: google-ai-generativelanguage==0.6.6 in /usr/local/lib/python3.10/dist-packages (from google-generativeai) (0.6.6)\n",
            "Requirement already satisfied: google-api-core in /usr/local/lib/python3.10/dist-packages (from google-generativeai) (2.19.1)\n",
            "Requirement already satisfied: google-api-python-client in /usr/local/lib/python3.10/dist-packages (from google-generativeai) (2.137.0)\n",
            "Requirement already satisfied: google-auth>=2.15.0 in /usr/local/lib/python3.10/dist-packages (from google-generativeai) (2.27.0)\n",
            "Requirement already satisfied: protobuf in /usr/local/lib/python3.10/dist-packages (from google-generativeai) (3.20.3)\n",
            "Requirement already satisfied: pydantic in /usr/local/lib/python3.10/dist-packages (from google-generativeai) (2.8.2)\n",
            "Requirement already satisfied: tqdm in /usr/local/lib/python3.10/dist-packages (from google-generativeai) (4.66.5)\n",
            "Requirement already satisfied: typing-extensions in /usr/local/lib/python3.10/dist-packages (from google-generativeai) (4.12.2)\n",
            "Requirement already satisfied: proto-plus<2.0.0dev,>=1.22.3 in /usr/local/lib/python3.10/dist-packages (from google-ai-generativelanguage==0.6.6->google-generativeai) (1.24.0)\n",
            "Requirement already satisfied: googleapis-common-protos<2.0.dev0,>=1.56.2 in /usr/local/lib/python3.10/dist-packages (from google-api-core->google-generativeai) (1.63.2)\n",
            "Requirement already satisfied: requests<3.0.0.dev0,>=2.18.0 in /usr/local/lib/python3.10/dist-packages (from google-api-core->google-generativeai) (2.32.3)\n",
            "Requirement already satisfied: cachetools<6.0,>=2.0.0 in /usr/local/lib/python3.10/dist-packages (from google-auth>=2.15.0->google-generativeai) (5.5.0)\n",
            "Requirement already satisfied: pyasn1-modules>=0.2.1 in /usr/local/lib/python3.10/dist-packages (from google-auth>=2.15.0->google-generativeai) (0.4.0)\n",
            "Requirement already satisfied: rsa<5,>=3.1.4 in /usr/local/lib/python3.10/dist-packages (from google-auth>=2.15.0->google-generativeai) (4.9)\n",
            "Requirement already satisfied: httplib2<1.dev0,>=0.19.0 in /usr/local/lib/python3.10/dist-packages (from google-api-python-client->google-generativeai) (0.22.0)\n",
            "Requirement already satisfied: google-auth-httplib2<1.0.0,>=0.2.0 in /usr/local/lib/python3.10/dist-packages (from google-api-python-client->google-generativeai) (0.2.0)\n",
            "Requirement already satisfied: uritemplate<5,>=3.0.1 in /usr/local/lib/python3.10/dist-packages (from google-api-python-client->google-generativeai) (4.1.1)\n",
            "Requirement already satisfied: annotated-types>=0.4.0 in /usr/local/lib/python3.10/dist-packages (from pydantic->google-generativeai) (0.7.0)\n",
            "Requirement already satisfied: pydantic-core==2.20.1 in /usr/local/lib/python3.10/dist-packages (from pydantic->google-generativeai) (2.20.1)\n",
            "Requirement already satisfied: grpcio<2.0dev,>=1.33.2 in /usr/local/lib/python3.10/dist-packages (from google-api-core[grpc]!=2.0.*,!=2.1.*,!=2.10.*,!=2.2.*,!=2.3.*,!=2.4.*,!=2.5.*,!=2.6.*,!=2.7.*,!=2.8.*,!=2.9.*,<3.0.0dev,>=1.34.1->google-ai-generativelanguage==0.6.6->google-generativeai) (1.64.1)\n",
            "Requirement already satisfied: grpcio-status<2.0.dev0,>=1.33.2 in /usr/local/lib/python3.10/dist-packages (from google-api-core[grpc]!=2.0.*,!=2.1.*,!=2.10.*,!=2.2.*,!=2.3.*,!=2.4.*,!=2.5.*,!=2.6.*,!=2.7.*,!=2.8.*,!=2.9.*,<3.0.0dev,>=1.34.1->google-ai-generativelanguage==0.6.6->google-generativeai) (1.48.2)\n",
            "Requirement already satisfied: pyparsing!=3.0.0,!=3.0.1,!=3.0.2,!=3.0.3,<4,>=2.4.2 in /usr/local/lib/python3.10/dist-packages (from httplib2<1.dev0,>=0.19.0->google-api-python-client->google-generativeai) (3.1.2)\n",
            "Requirement already satisfied: pyasn1<0.7.0,>=0.4.6 in /usr/local/lib/python3.10/dist-packages (from pyasn1-modules>=0.2.1->google-auth>=2.15.0->google-generativeai) (0.6.0)\n",
            "Requirement already satisfied: charset-normalizer<4,>=2 in /usr/local/lib/python3.10/dist-packages (from requests<3.0.0.dev0,>=2.18.0->google-api-core->google-generativeai) (3.3.2)\n",
            "Requirement already satisfied: idna<4,>=2.5 in /usr/local/lib/python3.10/dist-packages (from requests<3.0.0.dev0,>=2.18.0->google-api-core->google-generativeai) (3.7)\n",
            "Requirement already satisfied: urllib3<3,>=1.21.1 in /usr/local/lib/python3.10/dist-packages (from requests<3.0.0.dev0,>=2.18.0->google-api-core->google-generativeai) (2.0.7)\n",
            "Requirement already satisfied: certifi>=2017.4.17 in /usr/local/lib/python3.10/dist-packages (from requests<3.0.0.dev0,>=2.18.0->google-api-core->google-generativeai) (2024.7.4)\n"
          ]
        }
      ],
      "source": [
        "!pip install google-generativeai"
      ]
    },
    {
      "cell_type": "code",
      "source": [
        "import google.generativeai as genai"
      ],
      "metadata": {
        "id": "TPHVUMydU1xA"
      },
      "execution_count": 2,
      "outputs": []
    },
    {
      "cell_type": "code",
      "source": [
        "from google.colab import userdata\n",
        "\n",
        "GOOGLE_GEMINI_API_KEY = userdata.get('GOOGLE_GEMINI_API_KEY')\n",
        "\n",
        "genai.configure(api_key=GOOGLE_GEMINI_API_KEY)"
      ],
      "metadata": {
        "id": "rF0zxex9VfH1"
      },
      "execution_count": 3,
      "outputs": []
    },
    {
      "cell_type": "code",
      "source": [
        "for m in genai.list_models():\n",
        "  if 'generateContent' in m.supported_generation_methods:\n",
        "    print(m.name)"
      ],
      "metadata": {
        "colab": {
          "base_uri": "https://localhost:8080/",
          "height": 260
        },
        "id": "mkamZnixWNzy",
        "outputId": "9047ed8d-07a9-40bb-cc72-01f994ca72e5"
      },
      "execution_count": 4,
      "outputs": [
        {
          "output_type": "stream",
          "name": "stdout",
          "text": [
            "models/gemini-1.0-pro-latest\n",
            "models/gemini-1.0-pro\n",
            "models/gemini-pro\n",
            "models/gemini-1.0-pro-001\n",
            "models/gemini-1.0-pro-vision-latest\n",
            "models/gemini-pro-vision\n",
            "models/gemini-1.5-pro-latest\n",
            "models/gemini-1.5-pro-001\n",
            "models/gemini-1.5-pro\n",
            "models/gemini-1.5-pro-exp-0801\n",
            "models/gemini-1.5-flash-latest\n",
            "models/gemini-1.5-flash-001\n",
            "models/gemini-1.5-flash\n",
            "models/gemini-1.5-flash-001-tuning\n"
          ]
        }
      ]
    },
    {
      "cell_type": "code",
      "source": [
        "model = genai.GenerativeModel('models/gemini-1.5-pro-latest')"
      ],
      "metadata": {
        "id": "WZMqieLNWxrC"
      },
      "execution_count": 5,
      "outputs": []
    },
    {
      "cell_type": "code",
      "source": [
        "response = model.generate_content('Você é muito inteligente')\n",
        "response.text"
      ],
      "metadata": {
        "colab": {
          "base_uri": "https://localhost:8080/",
          "height": 87
        },
        "id": "Sr5GE3RWXAud",
        "outputId": "b9c2cccd-0689-43df-a27d-c56c11d03860"
      },
      "execution_count": 7,
      "outputs": [
        {
          "output_type": "execute_result",
          "data": {
            "text/plain": [
              "'Obrigado pelo elogio! Fico feliz que você tenha essa impressão. No entanto, é importante lembrar que sou apenas um modelo de linguagem, uma inteligência artificial. Não tenho sentimentos ou consciência como os humanos. \\n\\nMinha \"inteligência\" vem da minha capacidade de processar informações e responder a perguntas de forma coerente, usando os dados com os quais fui treinado. \\n\\nO que mais posso te ajudar hoje? \\n'"
            ],
            "application/vnd.google.colaboratory.intrinsic+json": {
              "type": "string"
            }
          },
          "metadata": {},
          "execution_count": 7
        }
      ]
    },
    {
      "cell_type": "code",
      "source": [
        "chat = model.start_chat(history=[])\n",
        "\n",
        "prompt = input('Esperando prompt: ')\n",
        "\n",
        "while prompt != 'fim':\n",
        "  response = chat.send_message(prompt)\n",
        "  print(response.text)\n",
        "  prompt = input('Esperando prompt: ')"
      ],
      "metadata": {
        "colab": {
          "base_uri": "https://localhost:8080/",
          "height": 1000
        },
        "id": "6hHmSUFFXWJa",
        "outputId": "91b85699-d0d9-4f29-b89c-73d635214973"
      },
      "execution_count": null,
      "outputs": [
        {
          "output_type": "stream",
          "name": "stdout",
          "text": [
            "Esperando prompt: preciso treinar minha mentalização de aprendizado, consegue me ajudar?\n",
            "Com certeza posso te ajudar a treinar sua mentalização para o aprendizado! Para te guiar da melhor forma, preciso entender melhor seus objetivos. Você poderia me dizer:\n",
            "\n",
            "**1. O que você quer aprender?** 🧠\n",
            "\n",
            "   * É uma habilidade específica como tocar um instrumento musical, falar um novo idioma ou programar? \n",
            "   * É um conteúdo acadêmico como matemática, história ou biologia? \n",
            "   * Ou você busca melhorar habilidades mentais como foco, memória ou criatividade?\n",
            "\n",
            "**2. Quais são seus desafios em relação ao aprendizado?** 🤔\n",
            "\n",
            "   * Você se distrai facilmente? \n",
            "   * Tem dificuldades em memorizar informações? \n",
            "   * Falta de motivação?\n",
            "   * Ansiedade em relação a provas ou apresentações? \n",
            "\n",
            "**3. Que tipo de mentalização você gostaria de desenvolver?** 💪\n",
            "\n",
            "   * Visualizar seu sucesso no aprendizado? \n",
            "   * Controlar pensamentos negativos e aumentar a autoconfiança?\n",
            "   * Manter o foco e a concentração durante os estudos?\n",
            "\n",
            "Com base nas suas respostas, posso te indicar exercícios práticos de visualização, afirmações positivas, técnicas de relaxamento e outras estratégias eficazes para turbinar seu aprendizado! 😊🚀\n",
            "\n",
            "Esperando prompt: Exemplo, eu estou vendo uma aula, passa alguns minutos, eu esqueço o que aprendi\n",
            "Entendi! Esquecer o conteúdo logo após a aula é super comum, mas existem técnicas de mentalização e organização que podem te ajudar a fixar melhor o aprendizado. 💪🧠\n",
            "\n",
            "**Vamos começar com a mentalização ANTES, DURANTE e DEPOIS da aula:**\n",
            "\n",
            "**ANTES da aula:**\n",
            "\n",
            "* **Preparando o terreno:**  Ao invés de encarar a aula como um bombardeio de informações, pense nela como uma oportunidade de descobrir coisas novas e interessantes sobre um assunto que te interessa (ou que você precisa aprender 😉). \n",
            "* **Despertando a Curiosidade:** Antes de começar, dê uma olhada no material da aula, títulos, imagens, e formule perguntas para si mesmo.  \"O que eu já sei sobre isso?\", \"O que eu gostaria de aprender?\".  Ativar a curiosidade deixa seu cérebro pronto para absorver o conteúdo.\n",
            "\n",
            "**DURANTE a aula:**\n",
            "\n",
            "* **Estimulando a Atenção:** Imagine que você precisa explicar o conteúdo da aula para alguém depois.  Essa postura mental te coloca como um participante ativo, não um receptor passivo de informações. \n",
            "* **Mapa Mental:**  Em vez de tentar anotar tudo, experimente fazer um mapa mental com as ideias principais, palavras-chave e conexões.  Isso te obriga a processar e sintetizar o conteúdo.\n",
            "* **Técnica Pomodoro:**  Faça pausas curtas a cada 25 minutos para se levantar, caminhar e dar uma espairecida. Isso ajuda a manter o foco e evitar a exaustão mental.\n",
            "\n",
            "**DEPOIS da aula:**\n",
            "\n",
            "* **Revisão:**  Logo após a aula, revise suas anotações ou o material. Não precisa ser nada muito longo, apenas relembrar os pontos principais.\n",
            "* **Ensine para alguém (ou para si mesmo):**  Explique o que aprendeu em voz alta, como se estivesse ensinando para outra pessoa. Essa é uma técnica poderosa para fixar o conteúdo na memória.\n",
            "* **Exercícios:**  Coloque em prática o que aprendeu através de exercícios, resolução de problemas ou projetos práticos.\n",
            "\n",
            "**DICAS EXTRAS:**\n",
            "\n",
            "* **Durma bem:** Uma boa noite de sono é essencial para consolidar a memória.\n",
            "* **Alimentação saudável:** Uma dieta balanceada fornece os nutrientes que seu cérebro precisa para funcionar bem.\n",
            "* **Exercício físico:**  A atividade física também beneficia o cérebro, melhorando o aprendizado e a memória.\n",
            "\n",
            "Lembre-se que o cérebro é como um músculo: quanto mais você exercita, mais forte ele fica! 💪🧠 Continue praticando essas técnicas e você vai notar uma grande diferença na sua capacidade de aprender e memorizar informações! 😉 \n",
            "\n",
            "Esperando prompt: muito obrigado, me ajudou muito!\n",
            "Que bom saber que as dicas foram úteis! 😊 Fico feliz em ter ajudado! \n",
            "\n",
            "Lembre-se que a chave para um bom aprendizado é a prática e a persistência. Continue explorando as técnicas que te falei, adaptando-as à sua rotina e descobrindo o que funciona melhor para você.  \n",
            "\n",
            "Se tiver mais alguma dúvida ou quiser conversar sobre outras estratégias de aprendizado, pode me chamar!  Estou aqui para te ajudar a turbinar seu aprendizado e alcançar seus objetivos. 🚀🧠📚 \n",
            "\n"
          ]
        }
      ]
    }
  ]
}